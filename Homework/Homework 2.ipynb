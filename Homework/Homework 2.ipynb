{
 "cells": [
  {
   "cell_type": "markdown",
   "id": "touched-logic",
   "metadata": {},
   "source": [
    "# Theory/Computation Problems\n",
    "\n",
    "### Problem 1 (20 points) \n",
    "Show that the stationary point (zero gradient) of the function\n",
    "$$\n",
    "\\begin{aligned}\n",
    "    f=2x_{1}^{2} - 4x_1 x_2+ 1.5x^{2}_{2}+ x_2\n",
    "\\end{aligned}\n",
    "$$\n",
    "is a saddle (with indefinite Hessian). Find the directions of downslopes away from the saddle. Hint: Use Taylor's expansion at the saddle point. Find directions that reduce $f$.\n",
    "\n",
    "### Problem 2 (50 points) \n",
    "\n",
    "* (10 points) Find the point in the plane $x_1+2x_2+3x_3=1$ in $\\mathbb{R}^3$ that is nearest to the point $(-1,0,1)^T$. Is this a convex problem? Hint: Convert the problem into an unconstrained problem using $x_1+2x_2+3x_3=1$.\n",
    "\n",
    "* (40 points) Implement the gradient descent and Newton's algorithm for solving the problem. Attach your codes along with a short summary including (1) the initial points tested, (2) corresponding solutions, (3) a log-linear convergence plot.\n",
    "\n",
    "### Problem 3 (10 points) \n",
    "Let $f(x)$ and $g(x)$ be two convex functions defined on the convex set $\\mathcal{X}$. \n",
    "* (5 points) Prove that $af(x)+bg(x)$ is convex for $a>0$ and $b>0$. \n",
    "* (5 points) In what conditions will $f(g(x))$ be convex?\n",
    "\n",
    "### Problem 4 (bonus 10 points)\n",
    "Show that $f({\\bf x}_1) \\geq f(\\textbf{x}_0) + \n",
    "    \\textbf{g}_{\\textbf{x}_0}^T(\\textbf{x}_1-\\textbf{x}_0)$ for a convex function $f(\\textbf{x}): \\mathcal{X} \\rightarrow \\mathbb{R}$ and for $\\textbf{x}_0$, $\\textbf{x}_1 \\in \\mathcal{X}$. "
   ]
  },
  {
   "cell_type": "markdown",
   "id": "collected-carbon",
   "metadata": {},
   "source": [
    "# Design Problems\n",
    "\n",
    "### Problem 5 (20 points) \n",
    "Consider an illumination problem: There are $n$ lamps and $m$ mirrors fixed to the ground. The target reflection intensity level is $I_t$. The actual reflection intensity level on the $k$th mirror can be computed as $\\textbf{a}_k^T \\textbf{p}$, where $\\textbf{a}_k$ is given by the distances between all lamps to the mirror, and $\\textbf{p}:=[p_1,...,p_n]^T$ are the power output of the lamps. The objective is to keep the actual intensity levels as close to the target as possible by tuning the power output $\\textbf{p}$.\n",
    "\n",
    "* (5 points) Formulate this problem as an optimization problem. \n",
    "* (5 points) Is your problem convex?\n",
    "* (5 points) If we require the overall power output of any of the $n$ lamps to be less than $p^*$, will the problem have a unique solution?\n",
    "* (5 points) If we require no more than half of the lamps to be switched on, will the problem have a unique solution?\n",
    "\n",
    "![everly1](img/everyly7.jpg)\n",
    "![IMG_0226](img/IMG_0226.jpeg)\n",
    "![IMG_0227](img/IMG_0227.jpg)\n",
    "![IMG_0229](img/IMG_0229.jpg)\n",
    "![IMG_0230](img/IMG_0230.jpg)\n",
    "\n",
    "### Problem 2b"
   ]
  },
  {
   "cell_type": "code",
   "execution_count": 10,
   "id": "cd7ea89a",
   "metadata": {},
   "outputs": [
    {
     "data": {
      "text/plain": "[0.0,\n -0.53125,\n -1.283203125,\n -1.1663818359375,\n -1.459442138671875,\n -1.1904573440551758,\n -1.1146003156900406,\n -1.1024794885888696,\n -1.1885334562975913,\n -1.1072960920791957,\n -1.0843905790810595,\n -1.080617343019604,\n -1.1061528319691103,\n -1.0820645410133252,\n -1.0752726239146204,\n -1.0741546647758438,\n -1.0817298944894742,\n -1.0745838420722769,\n -1.0725689465701407,\n -1.07223728501909,\n -1.074484531275845,\n -1.0723646046560669,\n -1.0717668717572766,\n -1.0716684820837286,\n -1.0723351436810973,\n -1.0717062523515053,\n -1.0715289306301221,\n -1.0714997426323203]"
     },
     "execution_count": 10,
     "metadata": {},
     "output_type": "execute_result"
    }
   ],
   "source": [
    "obj = lambda x2, x3: (2-2*x2-3*x3)**2+x2**2+(x3-1)**2\n",
    "grad2 = lambda x2,x3: (-8+10*x2+12*x3)\n",
    "grad3=lambda x2,x3: (-14+12*x2+20*x3)\n",
    "eps = 1e-3\n",
    "x1=0.\n",
    "x2=0.\n",
    "x3=0.\n",
    "k1=0\n",
    "k2=0\n",
    "k3=0\n",
    "soln1=[x1]\n",
    "soln2 = [x2]\n",
    "soln3 = [x3]\n",
    "x1=soln1[k1]\n",
    "x2=soln2[k2]\n",
    "x3=soln3[k3]\n",
    "\n",
    "from math import sqrt\n",
    "\n",
    "error=sqrt(grad2(x2,x3)**2+grad3(x2,x3)**2)\n",
    "def line_search(x2,x3):\n",
    "    a2=1.\n",
    "    phi2=lambda a2, x2, x3: obj(x2,x3) - a2*0.8*grad2(x2,x3)**2\n",
    "    phi3=lambda a2, x2, x3: obj(x2,x3) - a2*0.8*grad3(x2,x3)**2\n",
    "    while phi2(a2,x2,x3) <obj(x2-a2*grad2(x2,x3),x3-a2*grad3(x2,x3)) and phi3(a2,x2,x3)<obj(x2-a2*grad2(x2,x3),x3-a2*grad3(x2,x3)): \n",
    "        a2=0.5*a2\n",
    "    return a2\n",
    "    \n",
    "while error >= eps:\n",
    "        a2=line_search(x2,x3)\n",
    "        x2= x2-a2*grad2(x2,x3)\n",
    "        x3=x3-a2*grad3(x2,x3)\n",
    "        x1=1-2*x2-3*x3\n",
    "        soln1.append(x1)\n",
    "        soln2.append(x2)\n",
    "        soln3.append(x3)\n",
    "        error=sqrt(grad2(x2,x3)**2+grad3(x2,x3)**2)\n",
    "soln1\n"
   ]
  },
  {
   "cell_type": "code",
   "execution_count": 11,
   "id": "c428bb29",
   "metadata": {},
   "outputs": [
    {
     "data": {
      "text/plain": "[0.0,\n 0.25,\n 0.3359375,\n 0.22314453125,\n 0.08416748046875,\n 0.02147674560546875,\n -0.0036727190017700195,\n -0.031863708049058914,\n -0.07513752533122897,\n -0.09400811203522608,\n -0.1015446165429239,\n -0.1099491842453233,\n -0.12277055969379447,\n -0.1283665037090711,\n -0.13060166485391983,\n -0.13309461272583495,\n -0.13689829193229802,\n -0.13855838549771365,\n -0.13922146666314117,\n -0.13996101997278365,\n -0.14108940748913268,\n -0.1415818859305425,\n -0.14177859364189194,\n -0.14199798737597458,\n -0.1423327315738453,\n -0.14247882881061713,\n -0.14253718355389172,\n -0.14260226826718575]"
     },
     "execution_count": 11,
     "metadata": {},
     "output_type": "execute_result"
    }
   ],
   "source": [
    "soln2"
   ]
  },
  {
   "cell_type": "code",
   "execution_count": 12,
   "id": "8e2c9bef",
   "metadata": {},
   "outputs": [
    {
     "data": {
      "text/plain": "[0.0,\n 0.34375,\n 0.537109375,\n 0.5733642578125,\n 0.763702392578125,\n 0.7158346176147461,\n 0.7073152512311935,\n 0.7220689682289958,\n 0.7796028356533498,\n 0.7651041053832159,\n 0.7624932707223024,\n 0.7668385705034169,\n 0.7838979837855664,\n 0.7795991828104891,\n 0.7788253178741533,\n 0.7801146300758379,\n 0.7851754927846901,\n 0.7839002043559014,\n 0.7836706266321409,\n 0.7840531083215525,\n 0.7855544487513701,\n 0.7851761255057172,\n 0.7851080196803535,\n 0.7852214856118925,\n 0.7856668689429293,\n 0.7855546366575799,\n 0.7855344325793019,\n 0.7855680930555639]"
     },
     "execution_count": 12,
     "metadata": {},
     "output_type": "execute_result"
    }
   ],
   "source": [
    "soln3\n",
    "\n"
   ]
  }
 ],
 "metadata": {
  "kernelspec": {
   "display_name": "Python 3",
   "language": "python",
   "name": "python3"
  },
  "language_info": {
   "codemirror_mode": {
    "name": "ipython",
    "version": 3
   },
   "file_extension": ".py",
   "mimetype": "text/x-python",
   "name": "python",
   "nbconvert_exporter": "python",
   "pygments_lexer": "ipython3",
   "version": "3.8.8"
  }
 },
 "nbformat": 4,
 "nbformat_minor": 5
}